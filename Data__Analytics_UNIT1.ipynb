{
  "nbformat": 4,
  "nbformat_minor": 0,
  "metadata": {
    "colab": {
      "provenance": []
    },
    "kernelspec": {
      "name": "python3",
      "display_name": "Python 3"
    },
    "language_info": {
      "name": "python"
    }
  },
  "cells": [
    {
      "cell_type": "markdown",
      "source": [
        "### UNIT1"
      ],
      "metadata": {
        "id": "Dlpha4yqI_I_"
      }
    },
    {
      "cell_type": "markdown",
      "source": [
        "### data analytics"
      ],
      "metadata": {
        "id": "p3urKSUQJG7n"
      }
    },
    {
      "cell_type": "markdown",
      "source": [
        "Question.1 -> What is data analytics?\n",
        "Data analytics converts raw data into actionable insights. It includes a range of tools, technologies, and processes used to find trends and solve problems by using data. Data analytics can shape business processes, improve decision-making, and foster business growth.\n",
        "\n",
        "\n",
        "Why is data analytics important?\n",
        "\n",
        "Data analytics helps companies gain more visibility and a deeper understanding of their processes and services. It gives them detailed insights into the customer experience and customer problems. By shifting the paradigm beyond data to connect insights with action, companies can create personalized customer experiences, build related digital products, optimize operations, and increase employee productivity.\n",
        "\n",
        "\n",
        "What is big data analytics?\n",
        "\n",
        "Big data describes large sets of diverse data—structured, unstructured, and semi-structured—that are continuously generated at high speed and in high volumes. Big data is typically measured in terabytes or petabytes. One petabyte is equal to 1,000,000 gigabytes. To put this in perspective, consider that a single HD movie contains around 4 gigabytes of data. One petabyte is the equivalent of 250,000 films. Large datasets measure anywhere from hundreds to thousands to millions of petabytes.\n",
        "\n",
        "Big data analytics is the process of finding patterns, trends, and relationships in massive datasets. These complex analytics require specific tools and technologies, computational power, and data storage that support the scale."
      ],
      "metadata": {
        "id": "Mg-Z5lV0Pz7j"
      }
    },
    {
      "cell_type": "markdown",
      "source": [
        "The process of gathering and analyzing accurate data from various sources to find answers to research problems, trends and probabilities, etc., to evaluate possible outcomes is Known as Data Collection. Knowledge is power, information is knowledge, and data is information in digitized form, at least as defined in IT. Hence, data is power. But before you can leverage that data into a successful strategy for your organization or business, you need to gather it. That’s your first step.\n",
        "\n",
        "So, to help you get the process started, we shine a spotlight on data collection. What exactly is it? Believe it or not, it’s more than just doing a Google search! Furthermore, what are the different types of data collection? And what kinds of data collection tools and data collection techniques exist?"
      ],
      "metadata": {
        "id": "0HV741ulJNFg"
      }
    },
    {
      "cell_type": "markdown",
      "source": [
        "### What is Data Collection."
      ],
      "metadata": {
        "id": "jRMTDvMKaq5J"
      }
    },
    {
      "cell_type": "markdown",
      "source": [
        "Data collection is the process of collecting and evaluating information or data from multiple sources to find answers to research problems, answer questions, evaluate outcomes, and forecast trends and probabilities. It is an essential phase in all types of research, analysis, and decision-making, including that done in the social sciences, business, and healthcare.\n",
        "\n",
        "Accurate data collection is necessary to make informed business decisions, ensure quality assurance, and keep research integrity.\n",
        "\n",
        "During data collection, the researchers must identify the data types, the sources of data, and what methods are being used. We will soon see that there are many different data collection methods. There is heavy reliance on data collection in research, commercial, and government fields.\n",
        "\n",
        "Before an analyst begins collecting data, they must answer three questions first:\n",
        "\n",
        "What’s the goal or purpose of this research?\n",
        "What kinds of data are they planning on gathering?\n",
        "What methods and procedures will be used to collect, store, and process the information?\n",
        "\n",
        "Additionally, we can break up data into qualitative and quantitative types. Qualitative data covers descriptions such as color, size, quality, and appearance. Quantitative data, unsurprisingly, deals with numbers, such as statistics, poll numbers, percentages, etc. **bold text**"
      ],
      "metadata": {
        "id": "Ymt0yOBbauzR"
      }
    },
    {
      "cell_type": "code",
      "source": [
        "#this is the requirred link to go thorugh and whole data collecton related various insights"
      ],
      "metadata": {
        "id": "tNqfnldNJBVu"
      },
      "execution_count": 2,
      "outputs": []
    },
    {
      "cell_type": "markdown",
      "source": [
        "https://www.simplilearn.com/what-is-data-collection-article"
      ],
      "metadata": {
        "id": "_EawvYJyd_Yp"
      }
    },
    {
      "cell_type": "code",
      "source": [],
      "metadata": {
        "id": "yGgE6Nq8e5sB"
      },
      "execution_count": null,
      "outputs": []
    },
    {
      "cell_type": "code",
      "source": [],
      "metadata": {
        "id": "xvXig-eIeAJX"
      },
      "execution_count": null,
      "outputs": []
    }
  ]
}