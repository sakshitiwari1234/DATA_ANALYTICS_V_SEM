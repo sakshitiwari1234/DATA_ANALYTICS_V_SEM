{
  "nbformat": 4,
  "nbformat_minor": 0,
  "metadata": {
    "colab": {
      "provenance": []
    },
    "kernelspec": {
      "name": "python3",
      "display_name": "Python 3"
    },
    "language_info": {
      "name": "python"
    }
  },
  "cells": [
    {
      "cell_type": "code",
      "execution_count": null,
      "metadata": {
        "id": "aZm7qgLwhScK"
      },
      "outputs": [],
      "source": []
    },
    {
      "cell_type": "markdown",
      "source": [
        "### In Statistics, the variables or numbers are defined and categorised using different scales of measurements. Each level of measurement scale has specific properties that determine the various use of statistical analysis. In this article, we will learn four types of scales such as nominal, ordinal, interval and ratio scale.\n",
        "\n",
        "What is the Scale?\n",
        "\n",
        "A scale is a device or an object used to measure or quantify any event or another object.\n",
        "\n"
      ],
      "metadata": {
        "id": "Nj5rNnb6hawI"
      }
    },
    {
      "cell_type": "markdown",
      "source": [
        "https://byjus.com/maths/scales-of-measurement/"
      ],
      "metadata": {
        "id": "GgCVJwOjhggh"
      }
    },
    {
      "cell_type": "markdown",
      "source": [
        "https://www.ncbi.nlm.nih.gov/pmc/articles/PMC6206790/"
      ],
      "metadata": {
        "id": "LTlicEWyiAzm"
      }
    },
    {
      "cell_type": "markdown",
      "source": [
        "https://www.slideshare.net/slideshow/measurement-scaling-and-sampling/109479045"
      ],
      "metadata": {
        "id": "ZNYPS1sdiMZQ"
      }
    },
    {
      "cell_type": "code",
      "source": [],
      "metadata": {
        "id": "9Laiuutvhe1h"
      },
      "execution_count": null,
      "outputs": []
    }
  ]
}