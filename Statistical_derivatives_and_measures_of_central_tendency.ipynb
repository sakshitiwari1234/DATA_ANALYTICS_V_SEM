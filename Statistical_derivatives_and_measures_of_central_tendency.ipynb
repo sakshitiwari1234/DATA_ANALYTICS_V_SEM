{
  "nbformat": 4,
  "nbformat_minor": 0,
  "metadata": {
    "colab": {
      "provenance": [],
      "authorship_tag": "ABX9TyM9zFgvs3pykEcbF0t//xKU",
      "include_colab_link": true
    },
    "kernelspec": {
      "name": "python3",
      "display_name": "Python 3"
    },
    "language_info": {
      "name": "python"
    }
  },
  "cells": [
    {
      "cell_type": "markdown",
      "metadata": {
        "id": "view-in-github",
        "colab_type": "text"
      },
      "source": [
        "<a href=\"https://colab.research.google.com/github/sakshitiwari1234/DATA_ANALYTICS_V_SEM/blob/main/Statistical_derivatives_and_measures_of_central_tendency.ipynb\" target=\"_parent\"><img src=\"https://colab.research.google.com/assets/colab-badge.svg\" alt=\"Open In Colab\"/></a>"
      ]
    },
    {
      "cell_type": "markdown",
      "source": [
        "https://www.geeksforgeeks.org/difference-between-mean-median-and-mode-with-examples/?ref=lbp"
      ],
      "metadata": {
        "id": "RsJE-NdCjuCf"
      }
    },
    {
      "cell_type": "code",
      "execution_count": null,
      "metadata": {
        "id": "z9DIRCM0jb15"
      },
      "outputs": [],
      "source": []
    }
  ]
}